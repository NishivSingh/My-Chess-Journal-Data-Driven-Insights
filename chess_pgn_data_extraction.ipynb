{
 "cells": [
  {
   "cell_type": "code",
   "execution_count": 1,
   "id": "dee1a187",
   "metadata": {},
   "outputs": [],
   "source": [
    "import numpy as np\n",
    "import pandas as pd\n",
    "import chess.pgn"
   ]
  },
  {
   "cell_type": "code",
   "execution_count": 2,
   "id": "e2305e90",
   "metadata": {},
   "outputs": [],
   "source": [
    "def clean_header_value(value):\n",
    "    if value == \"?\" or value is None:\n",
    "        return None\n",
    "    return value\n",
    "\n",
    "def extract_game_data(game):\n",
    "    board = game.board()\n",
    "    moves_san = []\n",
    "    white_castled = False\n",
    "    black_castled = False\n",
    "\n",
    "    for move in game.mainline_moves():\n",
    "        san = board.san(move)\n",
    "        moves_san.append(san)\n",
    "        if san in [\"O-O\", \"O-O-O\"]:\n",
    "            if board.turn == chess.WHITE:\n",
    "                white_castled = True\n",
    "            else:\n",
    "                black_castled = True\n",
    "        board.push(move)\n",
    "\n",
    "    # Clean headers where necessary\n",
    "    white_elo_raw = game.headers.get(\"WhiteElo\", None)\n",
    "    black_elo_raw = game.headers.get(\"BlackElo\", None)\n",
    "\n",
    "    white_elo = int(white_elo_raw) if white_elo_raw and white_elo_raw.isdigit() else None\n",
    "    black_elo = int(black_elo_raw) if black_elo_raw and black_elo_raw.isdigit() else None\n",
    "\n",
    "    return {\n",
    "        \"GameId\": clean_header_value(game.headers.get(\"GameId\")),\n",
    "        \"Site\": clean_header_value(game.headers.get(\"Site\")),\n",
    "        \"Date\": clean_header_value(game.headers.get(\"Date\")),\n",
    "        \"UTCDate\": clean_header_value(game.headers.get(\"UTCDate\")),\n",
    "        \"UTCTime\": clean_header_value(game.headers.get(\"UTCTime\")),\n",
    "        \"White\": clean_header_value(game.headers.get(\"White\")),\n",
    "        \"Black\": clean_header_value(game.headers.get(\"Black\")),\n",
    "        \"WhiteElo\": white_elo,\n",
    "        \"BlackElo\": black_elo,\n",
    "        \"Result\": clean_header_value(game.headers.get(\"Result\")),\n",
    "        \"Variant\": clean_header_value(game.headers.get(\"Variant\")),\n",
    "        \"TimeControl\": clean_header_value(game.headers.get(\"TimeControl\")),\n",
    "        \"ECO\": clean_header_value(game.headers.get(\"ECO\")),\n",
    "        \"Opening\": clean_header_value(game.headers.get(\"Opening\")),\n",
    "        \"Termination\": clean_header_value(game.headers.get(\"Termination\")),\n",
    "        \"NumMoves\": len(moves_san),\n",
    "        \"NumTurns\": len(moves_san) // 2,\n",
    "        \"WhiteCastled\": white_castled,\n",
    "        \"BlackCastled\": black_castled,\n",
    "        \"LastMove\": moves_san[-1] if moves_san else None,\n",
    "        \"MovesSAN\": \" \".join(moves_san)\n",
    "    }\n"
   ]
  },
  {
   "cell_type": "code",
   "execution_count": 3,
   "id": "45fd1e8b",
   "metadata": {},
   "outputs": [],
   "source": [
    "def process_pgn_file(file_path, output_excel=\"lichess_games_summary.xlsx\"):\n",
    "    games_data = []\n",
    "    with open(file_path, encoding=\"utf-8\") as pgn_file:\n",
    "        while True:\n",
    "            game = chess.pgn.read_game(pgn_file)\n",
    "            if game is None:\n",
    "                break\n",
    "            try:\n",
    "                game_data = extract_game_data(game)\n",
    "                games_data.append(game_data)\n",
    "            except Exception as e:\n",
    "                print(f\"Error processing game: {e}\")\n",
    "                continue\n",
    "\n",
    "    df = pd.DataFrame(games_data)\n",
    "    df.to_excel(output_excel, index=False)\n",
    "    print(f\"Done! {len(df)} games saved to '{output_excel}'\")"
   ]
  },
  {
   "cell_type": "code",
   "execution_count": 4,
   "id": "af7d5a6a",
   "metadata": {},
   "outputs": [
    {
     "name": "stdout",
     "output_type": "stream",
     "text": [
      "Done! 10999 games saved to 'lichess_games_summary.xlsx'\n"
     ]
    }
   ],
   "source": [
    "process_pgn_file(\"data/lichess_nishiv_chess.pgn\")"
   ]
  }
 ],
 "metadata": {
  "kernelspec": {
   "display_name": "Python 3",
   "language": "python",
   "name": "python3"
  },
  "language_info": {
   "codemirror_mode": {
    "name": "ipython",
    "version": 3
   },
   "file_extension": ".py",
   "mimetype": "text/x-python",
   "name": "python",
   "nbconvert_exporter": "python",
   "pygments_lexer": "ipython3",
   "version": "3.11.3"
  }
 },
 "nbformat": 4,
 "nbformat_minor": 5
}
