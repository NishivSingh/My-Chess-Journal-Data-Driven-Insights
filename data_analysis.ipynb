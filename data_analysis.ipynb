{
 "cells": [
  {
   "cell_type": "markdown",
   "id": "e120dbeb",
   "metadata": {},
   "source": [
    "# Importing libraries and data"
   ]
  },
  {
   "cell_type": "code",
   "execution_count": 288,
   "id": "3aceeaf3",
   "metadata": {},
   "outputs": [],
   "source": [
    "import numpy as np\n",
    "import pandas as pd\n",
    "import matplotlib.pyplot as plt\n",
    "import seaborn as sns\n",
    "import datetime"
   ]
  },
  {
   "cell_type": "code",
   "execution_count": 289,
   "id": "7550e79f",
   "metadata": {},
   "outputs": [],
   "source": [
    "df = pd.read_excel(\"data/lichess_games_summary.xlsx\")"
   ]
  },
  {
   "cell_type": "code",
   "execution_count": 290,
   "id": "11e87efd",
   "metadata": {},
   "outputs": [
    {
     "data": {
      "text/html": [
       "<div>\n",
       "<style scoped>\n",
       "    .dataframe tbody tr th:only-of-type {\n",
       "        vertical-align: middle;\n",
       "    }\n",
       "\n",
       "    .dataframe tbody tr th {\n",
       "        vertical-align: top;\n",
       "    }\n",
       "\n",
       "    .dataframe thead th {\n",
       "        text-align: right;\n",
       "    }\n",
       "</style>\n",
       "<table border=\"1\" class=\"dataframe\">\n",
       "  <thead>\n",
       "    <tr style=\"text-align: right;\">\n",
       "      <th></th>\n",
       "      <th>GameId</th>\n",
       "      <th>Site</th>\n",
       "      <th>Date</th>\n",
       "      <th>UTCDate</th>\n",
       "      <th>UTCTime</th>\n",
       "      <th>White</th>\n",
       "      <th>Black</th>\n",
       "      <th>WhiteElo</th>\n",
       "      <th>BlackElo</th>\n",
       "      <th>Result</th>\n",
       "      <th>...</th>\n",
       "      <th>TimeControl</th>\n",
       "      <th>ECO</th>\n",
       "      <th>Opening</th>\n",
       "      <th>Termination</th>\n",
       "      <th>NumMoves</th>\n",
       "      <th>NumTurns</th>\n",
       "      <th>WhiteCastled</th>\n",
       "      <th>BlackCastled</th>\n",
       "      <th>LastMove</th>\n",
       "      <th>MovesSAN</th>\n",
       "    </tr>\n",
       "  </thead>\n",
       "  <tbody>\n",
       "    <tr>\n",
       "      <th>0</th>\n",
       "      <td>rvuBZ8lZ</td>\n",
       "      <td>https://lichess.org/rvuBZ8lZ</td>\n",
       "      <td>2024.06.29</td>\n",
       "      <td>2024.06.29</td>\n",
       "      <td>17:32:22</td>\n",
       "      <td>UdiQ</td>\n",
       "      <td>nishiv_chess</td>\n",
       "      <td>1899.0</td>\n",
       "      <td>1928.0</td>\n",
       "      <td>0-1</td>\n",
       "      <td>...</td>\n",
       "      <td>120+1</td>\n",
       "      <td>A06</td>\n",
       "      <td>Zukertort Opening: Tennison Gambit</td>\n",
       "      <td>Normal</td>\n",
       "      <td>92</td>\n",
       "      <td>46</td>\n",
       "      <td>True</td>\n",
       "      <td>False</td>\n",
       "      <td>Rxe4+</td>\n",
       "      <td>Nf3 d5 e4 dxe4 Ng5 Nc6 Nxe4 Bf5 Nbc3 e6 Qf3 Nf...</td>\n",
       "    </tr>\n",
       "    <tr>\n",
       "      <th>1</th>\n",
       "      <td>UHfYzLle</td>\n",
       "      <td>https://lichess.org/UHfYzLle</td>\n",
       "      <td>2024.06.29</td>\n",
       "      <td>2024.06.29</td>\n",
       "      <td>17:29:58</td>\n",
       "      <td>nishiv_chess</td>\n",
       "      <td>Rocknbol</td>\n",
       "      <td>1935.0</td>\n",
       "      <td>1848.0</td>\n",
       "      <td>0-1</td>\n",
       "      <td>...</td>\n",
       "      <td>120+1</td>\n",
       "      <td>B06</td>\n",
       "      <td>Modern Defense</td>\n",
       "      <td>Normal</td>\n",
       "      <td>54</td>\n",
       "      <td>27</td>\n",
       "      <td>False</td>\n",
       "      <td>True</td>\n",
       "      <td>Nc6</td>\n",
       "      <td>e4 g6 d4 Bg7 Be3 d6 Bd3 Nf6 Qd2 O-O Bh6 Ng4 Bx...</td>\n",
       "    </tr>\n",
       "    <tr>\n",
       "      <th>2</th>\n",
       "      <td>UOXnYWKB</td>\n",
       "      <td>https://lichess.org/UOXnYWKB</td>\n",
       "      <td>2024.06.29</td>\n",
       "      <td>2024.06.29</td>\n",
       "      <td>17:23:28</td>\n",
       "      <td>nishiv_chess</td>\n",
       "      <td>tmorsy123</td>\n",
       "      <td>1941.0</td>\n",
       "      <td>1907.0</td>\n",
       "      <td>0-1</td>\n",
       "      <td>...</td>\n",
       "      <td>120+1</td>\n",
       "      <td>B01</td>\n",
       "      <td>Scandinavian Defense: Mieses-Kotroc Variation</td>\n",
       "      <td>Time forfeit</td>\n",
       "      <td>106</td>\n",
       "      <td>53</td>\n",
       "      <td>True</td>\n",
       "      <td>True</td>\n",
       "      <td>Nd4</td>\n",
       "      <td>e4 d5 exd5 Qxd5 Nf3 Qe6+ Be2 Nc6 O-O h5 d4 Qg6...</td>\n",
       "    </tr>\n",
       "    <tr>\n",
       "      <th>3</th>\n",
       "      <td>yQkk4s62</td>\n",
       "      <td>https://lichess.org/yQkk4s62</td>\n",
       "      <td>2024.06.29</td>\n",
       "      <td>2024.06.29</td>\n",
       "      <td>17:19:10</td>\n",
       "      <td>boensaka</td>\n",
       "      <td>nishiv_chess</td>\n",
       "      <td>1894.0</td>\n",
       "      <td>1947.0</td>\n",
       "      <td>1-0</td>\n",
       "      <td>...</td>\n",
       "      <td>120+1</td>\n",
       "      <td>B20</td>\n",
       "      <td>Sicilian Defense</td>\n",
       "      <td>Normal</td>\n",
       "      <td>67</td>\n",
       "      <td>33</td>\n",
       "      <td>True</td>\n",
       "      <td>True</td>\n",
       "      <td>Rb8#</td>\n",
       "      <td>e4 c5 d3 Nc6 Nf3 e6 Be2 Nge7 c3 Ng6 Bg5 Be7 Be...</td>\n",
       "    </tr>\n",
       "    <tr>\n",
       "      <th>4</th>\n",
       "      <td>FlXSw9bJ</td>\n",
       "      <td>https://lichess.org/FlXSw9bJ</td>\n",
       "      <td>2024.06.29</td>\n",
       "      <td>2024.06.29</td>\n",
       "      <td>17:15:41</td>\n",
       "      <td>nishiv_chess</td>\n",
       "      <td>c4Polo</td>\n",
       "      <td>1954.0</td>\n",
       "      <td>1812.0</td>\n",
       "      <td>0-1</td>\n",
       "      <td>...</td>\n",
       "      <td>120+1</td>\n",
       "      <td>B01</td>\n",
       "      <td>Scandinavian Defense: Mieses-Kotroc Variation</td>\n",
       "      <td>Normal</td>\n",
       "      <td>63</td>\n",
       "      <td>31</td>\n",
       "      <td>True</td>\n",
       "      <td>True</td>\n",
       "      <td>Rb5</td>\n",
       "      <td>e4 d5 exd5 Qxd5 Nf3 Bg4 Be2 Nd7 O-O g6 d3 Bg7 ...</td>\n",
       "    </tr>\n",
       "  </tbody>\n",
       "</table>\n",
       "<p>5 rows × 21 columns</p>\n",
       "</div>"
      ],
      "text/plain": [
       "     GameId                          Site        Date     UTCDate   UTCTime   \n",
       "0  rvuBZ8lZ  https://lichess.org/rvuBZ8lZ  2024.06.29  2024.06.29  17:32:22  \\\n",
       "1  UHfYzLle  https://lichess.org/UHfYzLle  2024.06.29  2024.06.29  17:29:58   \n",
       "2  UOXnYWKB  https://lichess.org/UOXnYWKB  2024.06.29  2024.06.29  17:23:28   \n",
       "3  yQkk4s62  https://lichess.org/yQkk4s62  2024.06.29  2024.06.29  17:19:10   \n",
       "4  FlXSw9bJ  https://lichess.org/FlXSw9bJ  2024.06.29  2024.06.29  17:15:41   \n",
       "\n",
       "          White         Black  WhiteElo  BlackElo Result  ... TimeControl   \n",
       "0          UdiQ  nishiv_chess    1899.0    1928.0    0-1  ...       120+1  \\\n",
       "1  nishiv_chess      Rocknbol    1935.0    1848.0    0-1  ...       120+1   \n",
       "2  nishiv_chess     tmorsy123    1941.0    1907.0    0-1  ...       120+1   \n",
       "3      boensaka  nishiv_chess    1894.0    1947.0    1-0  ...       120+1   \n",
       "4  nishiv_chess        c4Polo    1954.0    1812.0    0-1  ...       120+1   \n",
       "\n",
       "   ECO                                        Opening   Termination NumMoves   \n",
       "0  A06             Zukertort Opening: Tennison Gambit        Normal       92  \\\n",
       "1  B06                                 Modern Defense        Normal       54   \n",
       "2  B01  Scandinavian Defense: Mieses-Kotroc Variation  Time forfeit      106   \n",
       "3  B20                               Sicilian Defense        Normal       67   \n",
       "4  B01  Scandinavian Defense: Mieses-Kotroc Variation        Normal       63   \n",
       "\n",
       "   NumTurns  WhiteCastled  BlackCastled  LastMove   \n",
       "0        46          True         False     Rxe4+  \\\n",
       "1        27         False          True       Nc6   \n",
       "2        53          True          True       Nd4   \n",
       "3        33          True          True      Rb8#   \n",
       "4        31          True          True       Rb5   \n",
       "\n",
       "                                            MovesSAN  \n",
       "0  Nf3 d5 e4 dxe4 Ng5 Nc6 Nxe4 Bf5 Nbc3 e6 Qf3 Nf...  \n",
       "1  e4 g6 d4 Bg7 Be3 d6 Bd3 Nf6 Qd2 O-O Bh6 Ng4 Bx...  \n",
       "2  e4 d5 exd5 Qxd5 Nf3 Qe6+ Be2 Nc6 O-O h5 d4 Qg6...  \n",
       "3  e4 c5 d3 Nc6 Nf3 e6 Be2 Nge7 c3 Ng6 Bg5 Be7 Be...  \n",
       "4  e4 d5 exd5 Qxd5 Nf3 Bg4 Be2 Nd7 O-O g6 d3 Bg7 ...  \n",
       "\n",
       "[5 rows x 21 columns]"
      ]
     },
     "execution_count": 290,
     "metadata": {},
     "output_type": "execute_result"
    }
   ],
   "source": [
    "df.head(5)"
   ]
  },
  {
   "cell_type": "code",
   "execution_count": 291,
   "id": "ff9fdb02",
   "metadata": {},
   "outputs": [
    {
     "name": "stdout",
     "output_type": "stream",
     "text": [
      "<class 'pandas.core.frame.DataFrame'>\n",
      "RangeIndex: 4026 entries, 0 to 4025\n",
      "Data columns (total 21 columns):\n",
      " #   Column        Non-Null Count  Dtype  \n",
      "---  ------        --------------  -----  \n",
      " 0   GameId        4026 non-null   object \n",
      " 1   Site          4026 non-null   object \n",
      " 2   Date          4026 non-null   object \n",
      " 3   UTCDate       4026 non-null   object \n",
      " 4   UTCTime       4026 non-null   object \n",
      " 5   White         4026 non-null   object \n",
      " 6   Black         4026 non-null   object \n",
      " 7   WhiteElo      4015 non-null   float64\n",
      " 8   BlackElo      4015 non-null   float64\n",
      " 9   Result        4026 non-null   object \n",
      " 10  Variant       4026 non-null   object \n",
      " 11  TimeControl   4026 non-null   object \n",
      " 12  ECO           3995 non-null   object \n",
      " 13  Opening       3995 non-null   object \n",
      " 14  Termination   4026 non-null   object \n",
      " 15  NumMoves      4026 non-null   int64  \n",
      " 16  NumTurns      4026 non-null   int64  \n",
      " 17  WhiteCastled  4026 non-null   bool   \n",
      " 18  BlackCastled  4026 non-null   bool   \n",
      " 19  LastMove      4026 non-null   object \n",
      " 20  MovesSAN      4026 non-null   object \n",
      "dtypes: bool(2), float64(2), int64(2), object(15)\n",
      "memory usage: 605.6+ KB\n"
     ]
    }
   ],
   "source": [
    "df.info()"
   ]
  },
  {
   "cell_type": "code",
   "execution_count": 292,
   "id": "4739d499",
   "metadata": {},
   "outputs": [
    {
     "data": {
      "text/html": [
       "<div>\n",
       "<style scoped>\n",
       "    .dataframe tbody tr th:only-of-type {\n",
       "        vertical-align: middle;\n",
       "    }\n",
       "\n",
       "    .dataframe tbody tr th {\n",
       "        vertical-align: top;\n",
       "    }\n",
       "\n",
       "    .dataframe thead th {\n",
       "        text-align: right;\n",
       "    }\n",
       "</style>\n",
       "<table border=\"1\" class=\"dataframe\">\n",
       "  <thead>\n",
       "    <tr style=\"text-align: right;\">\n",
       "      <th></th>\n",
       "      <th>WhiteElo</th>\n",
       "      <th>BlackElo</th>\n",
       "      <th>NumMoves</th>\n",
       "      <th>NumTurns</th>\n",
       "    </tr>\n",
       "  </thead>\n",
       "  <tbody>\n",
       "    <tr>\n",
       "      <th>count</th>\n",
       "      <td>4015.000000</td>\n",
       "      <td>4015.000000</td>\n",
       "      <td>4026.000000</td>\n",
       "      <td>4026.000000</td>\n",
       "    </tr>\n",
       "    <tr>\n",
       "      <th>mean</th>\n",
       "      <td>1785.593524</td>\n",
       "      <td>1802.160897</td>\n",
       "      <td>65.736711</td>\n",
       "      <td>32.624441</td>\n",
       "    </tr>\n",
       "    <tr>\n",
       "      <th>std</th>\n",
       "      <td>160.604605</td>\n",
       "      <td>152.451523</td>\n",
       "      <td>30.250453</td>\n",
       "      <td>15.135825</td>\n",
       "    </tr>\n",
       "    <tr>\n",
       "      <th>min</th>\n",
       "      <td>690.000000</td>\n",
       "      <td>666.000000</td>\n",
       "      <td>2.000000</td>\n",
       "      <td>1.000000</td>\n",
       "    </tr>\n",
       "    <tr>\n",
       "      <th>25%</th>\n",
       "      <td>1699.000000</td>\n",
       "      <td>1736.000000</td>\n",
       "      <td>45.000000</td>\n",
       "      <td>22.000000</td>\n",
       "    </tr>\n",
       "    <tr>\n",
       "      <th>50%</th>\n",
       "      <td>1828.000000</td>\n",
       "      <td>1844.000000</td>\n",
       "      <td>61.000000</td>\n",
       "      <td>30.000000</td>\n",
       "    </tr>\n",
       "    <tr>\n",
       "      <th>75%</th>\n",
       "      <td>1897.000000</td>\n",
       "      <td>1900.000000</td>\n",
       "      <td>82.000000</td>\n",
       "      <td>41.000000</td>\n",
       "    </tr>\n",
       "    <tr>\n",
       "      <th>max</th>\n",
       "      <td>2766.000000</td>\n",
       "      <td>2273.000000</td>\n",
       "      <td>282.000000</td>\n",
       "      <td>141.000000</td>\n",
       "    </tr>\n",
       "  </tbody>\n",
       "</table>\n",
       "</div>"
      ],
      "text/plain": [
       "          WhiteElo     BlackElo     NumMoves     NumTurns\n",
       "count  4015.000000  4015.000000  4026.000000  4026.000000\n",
       "mean   1785.593524  1802.160897    65.736711    32.624441\n",
       "std     160.604605   152.451523    30.250453    15.135825\n",
       "min     690.000000   666.000000     2.000000     1.000000\n",
       "25%    1699.000000  1736.000000    45.000000    22.000000\n",
       "50%    1828.000000  1844.000000    61.000000    30.000000\n",
       "75%    1897.000000  1900.000000    82.000000    41.000000\n",
       "max    2766.000000  2273.000000   282.000000   141.000000"
      ]
     },
     "execution_count": 292,
     "metadata": {},
     "output_type": "execute_result"
    }
   ],
   "source": [
    "df.describe()"
   ]
  },
  {
   "cell_type": "code",
   "execution_count": 293,
   "id": "1ddcf2d6",
   "metadata": {},
   "outputs": [
    {
     "data": {
      "text/plain": [
       "GameId           0\n",
       "Site             0\n",
       "Date             0\n",
       "UTCDate          0\n",
       "UTCTime          0\n",
       "White            0\n",
       "Black            0\n",
       "WhiteElo        11\n",
       "BlackElo        11\n",
       "Result           0\n",
       "Variant          0\n",
       "TimeControl      0\n",
       "ECO             31\n",
       "Opening         31\n",
       "Termination      0\n",
       "NumMoves         0\n",
       "NumTurns         0\n",
       "WhiteCastled     0\n",
       "BlackCastled     0\n",
       "LastMove         0\n",
       "MovesSAN         0\n",
       "dtype: int64"
      ]
     },
     "execution_count": 293,
     "metadata": {},
     "output_type": "execute_result"
    }
   ],
   "source": [
    "df.isnull().sum()"
   ]
  },
  {
   "cell_type": "code",
   "execution_count": 294,
   "id": "67122bc6",
   "metadata": {},
   "outputs": [
    {
     "data": {
      "text/plain": [
       "GameId          4026\n",
       "Site            4026\n",
       "Date             272\n",
       "UTCDate          272\n",
       "UTCTime         3882\n",
       "White           1733\n",
       "Black           1515\n",
       "WhiteElo         684\n",
       "BlackElo         668\n",
       "Result             3\n",
       "Variant            8\n",
       "TimeControl       99\n",
       "ECO              136\n",
       "Opening          342\n",
       "Termination        2\n",
       "NumMoves         181\n",
       "NumTurns          97\n",
       "WhiteCastled       2\n",
       "BlackCastled       2\n",
       "LastMove        1324\n",
       "MovesSAN        4025\n",
       "dtype: int64"
      ]
     },
     "execution_count": 294,
     "metadata": {},
     "output_type": "execute_result"
    }
   ],
   "source": [
    "df.nunique()"
   ]
  },
  {
   "cell_type": "code",
   "execution_count": 295,
   "id": "e6eab81f",
   "metadata": {},
   "outputs": [
    {
     "data": {
      "text/plain": [
       "Variant\n",
       "Standard            3935\n",
       "Crazyhouse            56\n",
       "Chess960              22\n",
       "Atomic                 7\n",
       "King of the Hill       2\n",
       "Three-check            2\n",
       "Horde                  1\n",
       "Antichess              1\n",
       "Name: count, dtype: int64"
      ]
     },
     "execution_count": 295,
     "metadata": {},
     "output_type": "execute_result"
    }
   ],
   "source": [
    "df['Variant'].value_counts()"
   ]
  },
  {
   "cell_type": "code",
   "execution_count": 296,
   "id": "27ca5016",
   "metadata": {},
   "outputs": [
    {
     "data": {
      "text/plain": [
       "<Axes: >"
      ]
     },
     "execution_count": 296,
     "metadata": {},
     "output_type": "execute_result"
    },
    {
     "data": {
      "image/png": "[encoded data removed]",
      "text/plain": [
       "<Figure size 640x480 with 1 Axes>"
      ]
     },
     "metadata": {},
     "output_type": "display_data"
    }
   ],
   "source": [
    "df[df['Variant'] == 'Standard'][['WhiteElo','BlackElo']].plot.box()"
   ]
  },
  {
   "cell_type": "markdown",
   "id": "e120a86d",
   "metadata": {},
   "source": [
    "# Feature Engineering"
   ]
  },
  {
   "cell_type": "code",
   "execution_count": 297,
   "id": "ce8a6b11",
   "metadata": {},
   "outputs": [
    {
     "data": {
      "text/plain": [
       "Index(['GameId', 'Site', 'Date', 'UTCDate', 'UTCTime', 'White', 'Black',\n",
       "       'WhiteElo', 'BlackElo', 'Result', 'Variant', 'TimeControl', 'ECO',\n",
       "       'Opening', 'Termination', 'NumMoves', 'NumTurns', 'WhiteCastled',\n",
       "       'BlackCastled', 'LastMove', 'MovesSAN'],\n",
       "      dtype='object')"
      ]
     },
     "execution_count": 297,
     "metadata": {},
     "output_type": "execute_result"
    }
   ],
   "source": [
    "df.columns"
   ]
  },
  {
   "cell_type": "code",
   "execution_count": 298,
   "id": "bec73b8e",
   "metadata": {},
   "outputs": [],
   "source": [
    "df['PlayerColor'] = df['White'].apply(lambda x :\"White\" if x == \"nishiv_chess\" else \"Black\")"
   ]
  },
  {
   "cell_type": "code",
   "execution_count": 299,
   "id": "2c3399db",
   "metadata": {},
   "outputs": [],
   "source": [
    "df['PlayerElo'] = df.apply(lambda row : row['WhiteElo'] if row['White'] == 'nishiv_chess' else row['BlackElo'],axis=1)\n",
    "df['OpponentElo'] = df.apply(lambda row : row['WhiteElo'] if row['White'] != 'nishiv_chess' else row['BlackElo'],axis=1)"
   ]
  },
  {
   "cell_type": "code",
   "execution_count": 300,
   "id": "941e4cdc",
   "metadata": {},
   "outputs": [],
   "source": [
    "df['RatingDiff'] = df['PlayerElo'] - df['OpponentElo']"
   ]
  },
  {
   "cell_type": "code",
   "execution_count": 301,
   "id": "18a9874d",
   "metadata": {},
   "outputs": [],
   "source": [
    "df['MatchResult'] = df.apply(lambda row : \"Draw\" if row['Result'] == '1/2-1/2' \n",
    "                             else \"Win\" if row['Result'] == '1-0' and row['PlayerColor'] == 'White'\n",
    "                             else \"Loss\",axis = 1)"
   ]
  },
  {
   "cell_type": "markdown",
   "id": "77211024",
   "metadata": {},
   "source": [
    "## Time Related Features"
   ]
  },
  {
   "cell_type": "code",
   "execution_count": 302,
   "id": "34c11c34",
   "metadata": {},
   "outputs": [],
   "source": [
    "# Convert to datetime with UTC timezone\n",
    "df['UTCDateTime'] = pd.to_datetime(\n",
    "    df['UTCDate'] + ' ' + df['UTCTime'],\n",
    "    format=\"%Y.%m.%d %H:%M:%S\",\n",
    "    errors='coerce'\n",
    ").dt.tz_localize('UTC')\n",
    "\n",
    "df['LocalDateTime'] = df['UTCDateTime'].dt.tz_convert('Asia/Kolkata')"
   ]
  },
  {
   "cell_type": "code",
   "execution_count": 303,
   "id": "1c156360",
   "metadata": {},
   "outputs": [
    {
     "data": {
      "text/plain": [
       "datetime64[ns, Asia/Kolkata]"
      ]
     },
     "execution_count": 303,
     "metadata": {},
     "output_type": "execute_result"
    }
   ],
   "source": [
    "df['LocalDateTime'].dtype"
   ]
  },
  {
   "cell_type": "code",
   "execution_count": 304,
   "id": "8dab2cd3",
   "metadata": {},
   "outputs": [],
   "source": [
    "df['GameDay'] = df['LocalDateTime'].dt.day\n",
    "df['DayOfWeek'] = df['LocalDateTime'].dt.day_name()\n",
    "df['GameHour'] =df['LocalDateTime'].dt.hour"
   ]
  }
 ],
 "metadata": {
  "kernelspec": {
   "display_name": "Python 3",
   "language": "python",
   "name": "python3"
  },
  "language_info": {
   "codemirror_mode": {
    "name": "ipython",
    "version": 3
   },
   "file_extension": ".py",
   "mimetype": "text/x-python",
   "name": "python",
   "nbconvert_exporter": "python",
   "pygments_lexer": "ipython3",
   "version": "3.11.3"
  }
 },
 "nbformat": 4,
 "nbformat_minor": 5
}
