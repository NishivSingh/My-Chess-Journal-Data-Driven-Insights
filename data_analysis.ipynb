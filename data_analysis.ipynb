{
 "cells": [
  {
   "cell_type": "markdown",
   "id": "e120dbeb",
   "metadata": {},
   "source": [
    "# Importing libraries and data"
   ]
  },
  {
   "cell_type": "code",
   "execution_count": 1,
   "id": "3aceeaf3",
   "metadata": {},
   "outputs": [],
   "source": [
    "import numpy as np\n",
    "import pandas as pd\n",
    "import matplotlib.pyplot as plt\n",
    "import seaborn as sns\n",
    "import datetime"
   ]
  },
  {
   "cell_type": "code",
   "execution_count": 2,
   "id": "7550e79f",
   "metadata": {},
   "outputs": [],
   "source": [
    "df = pd.read_excel(\"data/lichess_games_summary.xlsx\")"
   ]
  },
  {
   "cell_type": "code",
   "execution_count": 3,
   "id": "11e87efd",
   "metadata": {},
   "outputs": [
    {
     "data": {
      "text/html": [
       "<div>\n",
       "<style scoped>\n",
       "    .dataframe tbody tr th:only-of-type {\n",
       "        vertical-align: middle;\n",
       "    }\n",
       "\n",
       "    .dataframe tbody tr th {\n",
       "        vertical-align: top;\n",
       "    }\n",
       "\n",
       "    .dataframe thead th {\n",
       "        text-align: right;\n",
       "    }\n",
       "</style>\n",
       "<table border=\"1\" class=\"dataframe\">\n",
       "  <thead>\n",
       "    <tr style=\"text-align: right;\">\n",
       "      <th></th>\n",
       "      <th>GameId</th>\n",
       "      <th>Site</th>\n",
       "      <th>Date</th>\n",
       "      <th>UTCDate</th>\n",
       "      <th>UTCTime</th>\n",
       "      <th>White</th>\n",
       "      <th>Black</th>\n",
       "      <th>WhiteElo</th>\n",
       "      <th>BlackElo</th>\n",
       "      <th>Result</th>\n",
       "      <th>...</th>\n",
       "      <th>TimeControl</th>\n",
       "      <th>ECO</th>\n",
       "      <th>Opening</th>\n",
       "      <th>Termination</th>\n",
       "      <th>NumMoves</th>\n",
       "      <th>NumTurns</th>\n",
       "      <th>WhiteCastled</th>\n",
       "      <th>BlackCastled</th>\n",
       "      <th>LastMove</th>\n",
       "      <th>MovesSAN</th>\n",
       "    </tr>\n",
       "  </thead>\n",
       "  <tbody>\n",
       "    <tr>\n",
       "      <th>0</th>\n",
       "      <td>chFMdOke</td>\n",
       "      <td>https://lichess.org/chFMdOke</td>\n",
       "      <td>2024.12.31</td>\n",
       "      <td>2024.12.31</td>\n",
       "      <td>11:15:27</td>\n",
       "      <td>nishiv_chess</td>\n",
       "      <td>seb07</td>\n",
       "      <td>2082.0</td>\n",
       "      <td>1584.0</td>\n",
       "      <td>1-0</td>\n",
       "      <td>...</td>\n",
       "      <td>120+1</td>\n",
       "      <td>C25</td>\n",
       "      <td>Vienna Game: Max Lange Defense</td>\n",
       "      <td>Time forfeit</td>\n",
       "      <td>55</td>\n",
       "      <td>27</td>\n",
       "      <td>True</td>\n",
       "      <td>True</td>\n",
       "      <td>Qxc4</td>\n",
       "      <td>e4 e5 Nc3 Nc6 Bc4 Bc5 d3 Nge7 Nge2 d6 Na4 Bb6 ...</td>\n",
       "    </tr>\n",
       "    <tr>\n",
       "      <th>1</th>\n",
       "      <td>uuxb3QTu</td>\n",
       "      <td>https://lichess.org/uuxb3QTu</td>\n",
       "      <td>2024.12.31</td>\n",
       "      <td>2024.12.31</td>\n",
       "      <td>11:01:21</td>\n",
       "      <td>nishiv_chess</td>\n",
       "      <td>Kopstootje</td>\n",
       "      <td>1734.0</td>\n",
       "      <td>1745.0</td>\n",
       "      <td>1-0</td>\n",
       "      <td>...</td>\n",
       "      <td>300+3</td>\n",
       "      <td>B30</td>\n",
       "      <td>Sicilian Defense: Nyezhmetdinov-Rossolimo Attack</td>\n",
       "      <td>Normal</td>\n",
       "      <td>95</td>\n",
       "      <td>47</td>\n",
       "      <td>True</td>\n",
       "      <td>False</td>\n",
       "      <td>R@c6#</td>\n",
       "      <td>e4 c5 Nf3 Nc6 Bb5 Nd4 Nxd4 cxd4 O-O a6 Bc4 e6 ...</td>\n",
       "    </tr>\n",
       "    <tr>\n",
       "      <th>2</th>\n",
       "      <td>WXtny7Tt</td>\n",
       "      <td>https://lichess.org/WXtny7Tt</td>\n",
       "      <td>2024.12.31</td>\n",
       "      <td>2024.12.31</td>\n",
       "      <td>10:32:02</td>\n",
       "      <td>Zhigulin</td>\n",
       "      <td>nishiv_chess</td>\n",
       "      <td>1654.0</td>\n",
       "      <td>1647.0</td>\n",
       "      <td>1-0</td>\n",
       "      <td>...</td>\n",
       "      <td>180+3</td>\n",
       "      <td>NaN</td>\n",
       "      <td>NaN</td>\n",
       "      <td>Time forfeit</td>\n",
       "      <td>27</td>\n",
       "      <td>13</td>\n",
       "      <td>False</td>\n",
       "      <td>True</td>\n",
       "      <td>Bf5</td>\n",
       "      <td>Nb3 c6 c3 Ne6 d4 d5 Bd2 f6 e4 Bf7 exd5 cxd5 Ne...</td>\n",
       "    </tr>\n",
       "    <tr>\n",
       "      <th>3</th>\n",
       "      <td>pUvUicoD</td>\n",
       "      <td>https://lichess.org/pUvUicoD</td>\n",
       "      <td>2024.12.31</td>\n",
       "      <td>2024.12.31</td>\n",
       "      <td>10:30:08</td>\n",
       "      <td>nishiv_chess</td>\n",
       "      <td>Zhigulin</td>\n",
       "      <td>1634.0</td>\n",
       "      <td>1660.0</td>\n",
       "      <td>1-0</td>\n",
       "      <td>...</td>\n",
       "      <td>180+3</td>\n",
       "      <td>NaN</td>\n",
       "      <td>NaN</td>\n",
       "      <td>Normal</td>\n",
       "      <td>19</td>\n",
       "      <td>9</td>\n",
       "      <td>False</td>\n",
       "      <td>False</td>\n",
       "      <td>Qxc7</td>\n",
       "      <td>Ne3 Nb6 b3 c6 d4 d5 c4 e5 Bc3 e4 a4 Bf4 a5 Nd7...</td>\n",
       "    </tr>\n",
       "    <tr>\n",
       "      <th>4</th>\n",
       "      <td>ZY1fLFJO</td>\n",
       "      <td>https://lichess.org/ZY1fLFJO</td>\n",
       "      <td>2024.12.31</td>\n",
       "      <td>2024.12.31</td>\n",
       "      <td>10:24:54</td>\n",
       "      <td>nishiv_chess</td>\n",
       "      <td>Paradygma</td>\n",
       "      <td>1617.0</td>\n",
       "      <td>1694.0</td>\n",
       "      <td>1-0</td>\n",
       "      <td>...</td>\n",
       "      <td>240+3</td>\n",
       "      <td>NaN</td>\n",
       "      <td>NaN</td>\n",
       "      <td>Normal</td>\n",
       "      <td>51</td>\n",
       "      <td>25</td>\n",
       "      <td>False</td>\n",
       "      <td>True</td>\n",
       "      <td>Nb3</td>\n",
       "      <td>g3 d5 d4 Nb6 Bf4 Bf5 Bxc7 Rc8 Bxb6 axb6 c3 Nc6...</td>\n",
       "    </tr>\n",
       "  </tbody>\n",
       "</table>\n",
       "<p>5 rows × 21 columns</p>\n",
       "</div>"
      ],
      "text/plain": [
       "     GameId                          Site        Date     UTCDate   UTCTime   \n",
       "0  chFMdOke  https://lichess.org/chFMdOke  2024.12.31  2024.12.31  11:15:27  \\\n",
       "1  uuxb3QTu  https://lichess.org/uuxb3QTu  2024.12.31  2024.12.31  11:01:21   \n",
       "2  WXtny7Tt  https://lichess.org/WXtny7Tt  2024.12.31  2024.12.31  10:32:02   \n",
       "3  pUvUicoD  https://lichess.org/pUvUicoD  2024.12.31  2024.12.31  10:30:08   \n",
       "4  ZY1fLFJO  https://lichess.org/ZY1fLFJO  2024.12.31  2024.12.31  10:24:54   \n",
       "\n",
       "          White         Black  WhiteElo  BlackElo Result  ... TimeControl   \n",
       "0  nishiv_chess         seb07    2082.0    1584.0    1-0  ...       120+1  \\\n",
       "1  nishiv_chess    Kopstootje    1734.0    1745.0    1-0  ...       300+3   \n",
       "2      Zhigulin  nishiv_chess    1654.0    1647.0    1-0  ...       180+3   \n",
       "3  nishiv_chess      Zhigulin    1634.0    1660.0    1-0  ...       180+3   \n",
       "4  nishiv_chess     Paradygma    1617.0    1694.0    1-0  ...       240+3   \n",
       "\n",
       "   ECO                                           Opening   Termination   \n",
       "0  C25                    Vienna Game: Max Lange Defense  Time forfeit  \\\n",
       "1  B30  Sicilian Defense: Nyezhmetdinov-Rossolimo Attack        Normal   \n",
       "2  NaN                                               NaN  Time forfeit   \n",
       "3  NaN                                               NaN        Normal   \n",
       "4  NaN                                               NaN        Normal   \n",
       "\n",
       "  NumMoves  NumTurns  WhiteCastled  BlackCastled  LastMove   \n",
       "0       55        27          True          True      Qxc4  \\\n",
       "1       95        47          True         False     R@c6#   \n",
       "2       27        13         False          True       Bf5   \n",
       "3       19         9         False         False      Qxc7   \n",
       "4       51        25         False          True       Nb3   \n",
       "\n",
       "                                            MovesSAN  \n",
       "0  e4 e5 Nc3 Nc6 Bc4 Bc5 d3 Nge7 Nge2 d6 Na4 Bb6 ...  \n",
       "1  e4 c5 Nf3 Nc6 Bb5 Nd4 Nxd4 cxd4 O-O a6 Bc4 e6 ...  \n",
       "2  Nb3 c6 c3 Ne6 d4 d5 Bd2 f6 e4 Bf7 exd5 cxd5 Ne...  \n",
       "3  Ne3 Nb6 b3 c6 d4 d5 c4 e5 Bc3 e4 a4 Bf4 a5 Nd7...  \n",
       "4  g3 d5 d4 Nb6 Bf4 Bf5 Bxc7 Rc8 Bxb6 axb6 c3 Nc6...  \n",
       "\n",
       "[5 rows x 21 columns]"
      ]
     },
     "execution_count": 3,
     "metadata": {},
     "output_type": "execute_result"
    }
   ],
   "source": [
    "df.head(5)"
   ]
  },
  {
   "cell_type": "code",
   "execution_count": 4,
   "id": "ff9fdb02",
   "metadata": {},
   "outputs": [
    {
     "name": "stdout",
     "output_type": "stream",
     "text": [
      "<class 'pandas.core.frame.DataFrame'>\n",
      "RangeIndex: 3678 entries, 0 to 3677\n",
      "Data columns (total 21 columns):\n",
      " #   Column        Non-Null Count  Dtype  \n",
      "---  ------        --------------  -----  \n",
      " 0   GameId        3678 non-null   object \n",
      " 1   Site          3678 non-null   object \n",
      " 2   Date          3678 non-null   object \n",
      " 3   UTCDate       3678 non-null   object \n",
      " 4   UTCTime       3678 non-null   object \n",
      " 5   White         3678 non-null   object \n",
      " 6   Black         3678 non-null   object \n",
      " 7   WhiteElo      3673 non-null   float64\n",
      " 8   BlackElo      3671 non-null   float64\n",
      " 9   Result        3678 non-null   object \n",
      " 10  Variant       3678 non-null   object \n",
      " 11  TimeControl   3678 non-null   object \n",
      " 12  ECO           3610 non-null   object \n",
      " 13  Opening       3610 non-null   object \n",
      " 14  Termination   3678 non-null   object \n",
      " 15  NumMoves      3678 non-null   int64  \n",
      " 16  NumTurns      3678 non-null   int64  \n",
      " 17  WhiteCastled  3678 non-null   bool   \n",
      " 18  BlackCastled  3678 non-null   bool   \n",
      " 19  LastMove      3678 non-null   object \n",
      " 20  MovesSAN      3678 non-null   object \n",
      "dtypes: bool(2), float64(2), int64(2), object(15)\n",
      "memory usage: 553.3+ KB\n"
     ]
    }
   ],
   "source": [
    "df.info()"
   ]
  },
  {
   "cell_type": "code",
   "execution_count": 5,
   "id": "4739d499",
   "metadata": {},
   "outputs": [
    {
     "data": {
      "text/html": [
       "<div>\n",
       "<style scoped>\n",
       "    .dataframe tbody tr th:only-of-type {\n",
       "        vertical-align: middle;\n",
       "    }\n",
       "\n",
       "    .dataframe tbody tr th {\n",
       "        vertical-align: top;\n",
       "    }\n",
       "\n",
       "    .dataframe thead th {\n",
       "        text-align: right;\n",
       "    }\n",
       "</style>\n",
       "<table border=\"1\" class=\"dataframe\">\n",
       "  <thead>\n",
       "    <tr style=\"text-align: right;\">\n",
       "      <th></th>\n",
       "      <th>WhiteElo</th>\n",
       "      <th>BlackElo</th>\n",
       "      <th>NumMoves</th>\n",
       "      <th>NumTurns</th>\n",
       "    </tr>\n",
       "  </thead>\n",
       "  <tbody>\n",
       "    <tr>\n",
       "      <th>count</th>\n",
       "      <td>3673.000000</td>\n",
       "      <td>3671.000000</td>\n",
       "      <td>3678.000000</td>\n",
       "      <td>3678.000000</td>\n",
       "    </tr>\n",
       "    <tr>\n",
       "      <th>mean</th>\n",
       "      <td>1859.340866</td>\n",
       "      <td>1871.118769</td>\n",
       "      <td>64.268624</td>\n",
       "      <td>31.889886</td>\n",
       "    </tr>\n",
       "    <tr>\n",
       "      <th>std</th>\n",
       "      <td>160.136153</td>\n",
       "      <td>152.002169</td>\n",
       "      <td>30.685029</td>\n",
       "      <td>15.349916</td>\n",
       "    </tr>\n",
       "    <tr>\n",
       "      <th>min</th>\n",
       "      <td>690.000000</td>\n",
       "      <td>666.000000</td>\n",
       "      <td>2.000000</td>\n",
       "      <td>1.000000</td>\n",
       "    </tr>\n",
       "    <tr>\n",
       "      <th>25%</th>\n",
       "      <td>1811.000000</td>\n",
       "      <td>1848.000000</td>\n",
       "      <td>42.000000</td>\n",
       "      <td>21.000000</td>\n",
       "    </tr>\n",
       "    <tr>\n",
       "      <th>50%</th>\n",
       "      <td>1898.000000</td>\n",
       "      <td>1903.000000</td>\n",
       "      <td>59.000000</td>\n",
       "      <td>29.000000</td>\n",
       "    </tr>\n",
       "    <tr>\n",
       "      <th>75%</th>\n",
       "      <td>1949.000000</td>\n",
       "      <td>1949.000000</td>\n",
       "      <td>81.000000</td>\n",
       "      <td>40.000000</td>\n",
       "    </tr>\n",
       "    <tr>\n",
       "      <th>max</th>\n",
       "      <td>2235.000000</td>\n",
       "      <td>2257.000000</td>\n",
       "      <td>221.000000</td>\n",
       "      <td>110.000000</td>\n",
       "    </tr>\n",
       "  </tbody>\n",
       "</table>\n",
       "</div>"
      ],
      "text/plain": [
       "          WhiteElo     BlackElo     NumMoves     NumTurns\n",
       "count  3673.000000  3671.000000  3678.000000  3678.000000\n",
       "mean   1859.340866  1871.118769    64.268624    31.889886\n",
       "std     160.136153   152.002169    30.685029    15.349916\n",
       "min     690.000000   666.000000     2.000000     1.000000\n",
       "25%    1811.000000  1848.000000    42.000000    21.000000\n",
       "50%    1898.000000  1903.000000    59.000000    29.000000\n",
       "75%    1949.000000  1949.000000    81.000000    40.000000\n",
       "max    2235.000000  2257.000000   221.000000   110.000000"
      ]
     },
     "execution_count": 5,
     "metadata": {},
     "output_type": "execute_result"
    }
   ],
   "source": [
    "df.describe()"
   ]
  },
  {
   "cell_type": "code",
   "execution_count": 6,
   "id": "1ddcf2d6",
   "metadata": {},
   "outputs": [
    {
     "data": {
      "text/plain": [
       "GameId           0\n",
       "Site             0\n",
       "Date             0\n",
       "UTCDate          0\n",
       "UTCTime          0\n",
       "White            0\n",
       "Black            0\n",
       "WhiteElo         5\n",
       "BlackElo         7\n",
       "Result           0\n",
       "Variant          0\n",
       "TimeControl      0\n",
       "ECO             68\n",
       "Opening         68\n",
       "Termination      0\n",
       "NumMoves         0\n",
       "NumTurns         0\n",
       "WhiteCastled     0\n",
       "BlackCastled     0\n",
       "LastMove         0\n",
       "MovesSAN         0\n",
       "dtype: int64"
      ]
     },
     "execution_count": 6,
     "metadata": {},
     "output_type": "execute_result"
    }
   ],
   "source": [
    "df.isnull().sum()"
   ]
  },
  {
   "cell_type": "code",
   "execution_count": 7,
   "id": "67122bc6",
   "metadata": {},
   "outputs": [
    {
     "data": {
      "text/plain": [
       "GameId          3678\n",
       "Site            3678\n",
       "Date             276\n",
       "UTCDate          276\n",
       "UTCTime         3552\n",
       "White           1632\n",
       "Black           1524\n",
       "WhiteElo         651\n",
       "BlackElo         623\n",
       "Result             3\n",
       "Variant            8\n",
       "TimeControl       86\n",
       "ECO              123\n",
       "Opening          322\n",
       "Termination        2\n",
       "NumMoves         170\n",
       "NumTurns          92\n",
       "WhiteCastled       2\n",
       "BlackCastled       2\n",
       "LastMove        1295\n",
       "MovesSAN        3677\n",
       "dtype: int64"
      ]
     },
     "execution_count": 7,
     "metadata": {},
     "output_type": "execute_result"
    }
   ],
   "source": [
    "df.nunique()"
   ]
  },
  {
   "cell_type": "code",
   "execution_count": 8,
   "id": "e6eab81f",
   "metadata": {},
   "outputs": [
    {
     "data": {
      "text/plain": [
       "Variant\n",
       "Standard            3475\n",
       "Crazyhouse           129\n",
       "Chess960              39\n",
       "Atomic                22\n",
       "Racing Kings           5\n",
       "King of the Hill       4\n",
       "Horde                  2\n",
       "Three-check            2\n",
       "Name: count, dtype: int64"
      ]
     },
     "execution_count": 8,
     "metadata": {},
     "output_type": "execute_result"
    }
   ],
   "source": [
    "df['Variant'].value_counts()"
   ]
  },
  {
   "cell_type": "code",
   "execution_count": 9,
   "id": "13f0a9a3",
   "metadata": {},
   "outputs": [],
   "source": [
    "df['Date'] = pd.to_datetime(df['Date'])\n",
    "df['UTCDateTime'] = pd.to_datetime(df['UTCDate'] + ' ' + df['UTCTime'])"
   ]
  },
  {
   "cell_type": "code",
   "execution_count": 10,
   "id": "4e7fb1a8",
   "metadata": {},
   "outputs": [],
   "source": [
    "df = df.drop(columns=['UTCDate','UTCTime'],axis=1)"
   ]
  },
  {
   "cell_type": "code",
   "execution_count": 16,
   "id": "27ca5016",
   "metadata": {},
   "outputs": [
    {
     "data": {
      "text/plain": [
       "<Axes: >"
      ]
     },
     "execution_count": 16,
     "metadata": {},
     "output_type": "execute_result"
    },
    {
     "data": {
      "image/png": "[encoded data removed]",
      "text/plain": [
       "<Figure size 640x480 with 1 Axes>"
      ]
     },
     "metadata": {},
     "output_type": "display_data"
    }
   ],
   "source": [
    "df[df['Variant'] == 'Standard'][['WhiteElo','BlackElo']].plot.box()"
   ]
  },
  {
   "cell_type": "markdown",
   "id": "e120a86d",
   "metadata": {},
   "source": [
    "# Feature Engineering"
   ]
  },
  {
   "cell_type": "code",
   "execution_count": null,
   "id": "0b33f347",
   "metadata": {},
   "outputs": [],
   "source": []
  }
 ],
 "metadata": {
  "kernelspec": {
   "display_name": "Python 3",
   "language": "python",
   "name": "python3"
  },
  "language_info": {
   "codemirror_mode": {
    "name": "ipython",
    "version": 3
   },
   "file_extension": ".py",
   "mimetype": "text/x-python",
   "name": "python",
   "nbconvert_exporter": "python",
   "pygments_lexer": "ipython3",
   "version": "3.11.3"
  }
 },
 "nbformat": 4,
 "nbformat_minor": 5
}
