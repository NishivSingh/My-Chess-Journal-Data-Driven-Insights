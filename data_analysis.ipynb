{
 "cells": [
  {
   "cell_type": "markdown",
   "id": "e120dbeb",
   "metadata": {},
   "source": [
    "# Importing libraries and data"
   ]
  },
  {
   "cell_type": "code",
   "execution_count": 36,
   "id": "3aceeaf3",
   "metadata": {},
   "outputs": [],
   "source": [
    "import numpy as np\n",
    "import pandas as pd\n",
    "import matplotlib.pyplot as plt\n",
    "import seaborn as sns\n",
    "import datetime"
   ]
  },
  {
   "cell_type": "code",
   "execution_count": 37,
   "id": "7550e79f",
   "metadata": {},
   "outputs": [],
   "source": [
    "df = pd.read_excel(\"data/lichess_games_summary.xlsx\")"
   ]
  },
  {
   "cell_type": "code",
   "execution_count": 38,
   "id": "11e87efd",
   "metadata": {},
   "outputs": [
    {
     "data": {
      "text/html": [
       "<div>\n",
       "<style scoped>\n",
       "    .dataframe tbody tr th:only-of-type {\n",
       "        vertical-align: middle;\n",
       "    }\n",
       "\n",
       "    .dataframe tbody tr th {\n",
       "        vertical-align: top;\n",
       "    }\n",
       "\n",
       "    .dataframe thead th {\n",
       "        text-align: right;\n",
       "    }\n",
       "</style>\n",
       "<table border=\"1\" class=\"dataframe\">\n",
       "  <thead>\n",
       "    <tr style=\"text-align: right;\">\n",
       "      <th></th>\n",
       "      <th>GameId</th>\n",
       "      <th>Site</th>\n",
       "      <th>Date</th>\n",
       "      <th>UTCDate</th>\n",
       "      <th>UTCTime</th>\n",
       "      <th>White</th>\n",
       "      <th>Black</th>\n",
       "      <th>WhiteElo</th>\n",
       "      <th>BlackElo</th>\n",
       "      <th>Result</th>\n",
       "      <th>...</th>\n",
       "      <th>TimeControl</th>\n",
       "      <th>ECO</th>\n",
       "      <th>Opening</th>\n",
       "      <th>Termination</th>\n",
       "      <th>NumMoves</th>\n",
       "      <th>NumTurns</th>\n",
       "      <th>WhiteCastled</th>\n",
       "      <th>BlackCastled</th>\n",
       "      <th>LastMove</th>\n",
       "      <th>MovesSAN</th>\n",
       "    </tr>\n",
       "  </thead>\n",
       "  <tbody>\n",
       "    <tr>\n",
       "      <th>0</th>\n",
       "      <td>rvuBZ8lZ</td>\n",
       "      <td>https://lichess.org/rvuBZ8lZ</td>\n",
       "      <td>2024.06.29</td>\n",
       "      <td>2024.06.29</td>\n",
       "      <td>17:32:22</td>\n",
       "      <td>UdiQ</td>\n",
       "      <td>nishiv_chess</td>\n",
       "      <td>1899.0</td>\n",
       "      <td>1928.0</td>\n",
       "      <td>0-1</td>\n",
       "      <td>...</td>\n",
       "      <td>120+1</td>\n",
       "      <td>A06</td>\n",
       "      <td>Zukertort Opening: Tennison Gambit</td>\n",
       "      <td>Normal</td>\n",
       "      <td>92</td>\n",
       "      <td>46</td>\n",
       "      <td>True</td>\n",
       "      <td>False</td>\n",
       "      <td>Rxe4+</td>\n",
       "      <td>Nf3 d5 e4 dxe4 Ng5 Nc6 Nxe4 Bf5 Nbc3 e6 Qf3 Nf...</td>\n",
       "    </tr>\n",
       "    <tr>\n",
       "      <th>1</th>\n",
       "      <td>UHfYzLle</td>\n",
       "      <td>https://lichess.org/UHfYzLle</td>\n",
       "      <td>2024.06.29</td>\n",
       "      <td>2024.06.29</td>\n",
       "      <td>17:29:58</td>\n",
       "      <td>nishiv_chess</td>\n",
       "      <td>Rocknbol</td>\n",
       "      <td>1935.0</td>\n",
       "      <td>1848.0</td>\n",
       "      <td>0-1</td>\n",
       "      <td>...</td>\n",
       "      <td>120+1</td>\n",
       "      <td>B06</td>\n",
       "      <td>Modern Defense</td>\n",
       "      <td>Normal</td>\n",
       "      <td>54</td>\n",
       "      <td>27</td>\n",
       "      <td>False</td>\n",
       "      <td>True</td>\n",
       "      <td>Nc6</td>\n",
       "      <td>e4 g6 d4 Bg7 Be3 d6 Bd3 Nf6 Qd2 O-O Bh6 Ng4 Bx...</td>\n",
       "    </tr>\n",
       "    <tr>\n",
       "      <th>2</th>\n",
       "      <td>UOXnYWKB</td>\n",
       "      <td>https://lichess.org/UOXnYWKB</td>\n",
       "      <td>2024.06.29</td>\n",
       "      <td>2024.06.29</td>\n",
       "      <td>17:23:28</td>\n",
       "      <td>nishiv_chess</td>\n",
       "      <td>tmorsy123</td>\n",
       "      <td>1941.0</td>\n",
       "      <td>1907.0</td>\n",
       "      <td>0-1</td>\n",
       "      <td>...</td>\n",
       "      <td>120+1</td>\n",
       "      <td>B01</td>\n",
       "      <td>Scandinavian Defense: Mieses-Kotroc Variation</td>\n",
       "      <td>Time forfeit</td>\n",
       "      <td>106</td>\n",
       "      <td>53</td>\n",
       "      <td>True</td>\n",
       "      <td>True</td>\n",
       "      <td>Nd4</td>\n",
       "      <td>e4 d5 exd5 Qxd5 Nf3 Qe6+ Be2 Nc6 O-O h5 d4 Qg6...</td>\n",
       "    </tr>\n",
       "    <tr>\n",
       "      <th>3</th>\n",
       "      <td>yQkk4s62</td>\n",
       "      <td>https://lichess.org/yQkk4s62</td>\n",
       "      <td>2024.06.29</td>\n",
       "      <td>2024.06.29</td>\n",
       "      <td>17:19:10</td>\n",
       "      <td>boensaka</td>\n",
       "      <td>nishiv_chess</td>\n",
       "      <td>1894.0</td>\n",
       "      <td>1947.0</td>\n",
       "      <td>1-0</td>\n",
       "      <td>...</td>\n",
       "      <td>120+1</td>\n",
       "      <td>B20</td>\n",
       "      <td>Sicilian Defense</td>\n",
       "      <td>Normal</td>\n",
       "      <td>67</td>\n",
       "      <td>33</td>\n",
       "      <td>True</td>\n",
       "      <td>True</td>\n",
       "      <td>Rb8#</td>\n",
       "      <td>e4 c5 d3 Nc6 Nf3 e6 Be2 Nge7 c3 Ng6 Bg5 Be7 Be...</td>\n",
       "    </tr>\n",
       "    <tr>\n",
       "      <th>4</th>\n",
       "      <td>FlXSw9bJ</td>\n",
       "      <td>https://lichess.org/FlXSw9bJ</td>\n",
       "      <td>2024.06.29</td>\n",
       "      <td>2024.06.29</td>\n",
       "      <td>17:15:41</td>\n",
       "      <td>nishiv_chess</td>\n",
       "      <td>c4Polo</td>\n",
       "      <td>1954.0</td>\n",
       "      <td>1812.0</td>\n",
       "      <td>0-1</td>\n",
       "      <td>...</td>\n",
       "      <td>120+1</td>\n",
       "      <td>B01</td>\n",
       "      <td>Scandinavian Defense: Mieses-Kotroc Variation</td>\n",
       "      <td>Normal</td>\n",
       "      <td>63</td>\n",
       "      <td>31</td>\n",
       "      <td>True</td>\n",
       "      <td>True</td>\n",
       "      <td>Rb5</td>\n",
       "      <td>e4 d5 exd5 Qxd5 Nf3 Bg4 Be2 Nd7 O-O g6 d3 Bg7 ...</td>\n",
       "    </tr>\n",
       "  </tbody>\n",
       "</table>\n",
       "<p>5 rows × 21 columns</p>\n",
       "</div>"
      ],
      "text/plain": [
       "     GameId                          Site        Date     UTCDate   UTCTime   \n",
       "0  rvuBZ8lZ  https://lichess.org/rvuBZ8lZ  2024.06.29  2024.06.29  17:32:22  \\\n",
       "1  UHfYzLle  https://lichess.org/UHfYzLle  2024.06.29  2024.06.29  17:29:58   \n",
       "2  UOXnYWKB  https://lichess.org/UOXnYWKB  2024.06.29  2024.06.29  17:23:28   \n",
       "3  yQkk4s62  https://lichess.org/yQkk4s62  2024.06.29  2024.06.29  17:19:10   \n",
       "4  FlXSw9bJ  https://lichess.org/FlXSw9bJ  2024.06.29  2024.06.29  17:15:41   \n",
       "\n",
       "          White         Black  WhiteElo  BlackElo Result  ... TimeControl   \n",
       "0          UdiQ  nishiv_chess    1899.0    1928.0    0-1  ...       120+1  \\\n",
       "1  nishiv_chess      Rocknbol    1935.0    1848.0    0-1  ...       120+1   \n",
       "2  nishiv_chess     tmorsy123    1941.0    1907.0    0-1  ...       120+1   \n",
       "3      boensaka  nishiv_chess    1894.0    1947.0    1-0  ...       120+1   \n",
       "4  nishiv_chess        c4Polo    1954.0    1812.0    0-1  ...       120+1   \n",
       "\n",
       "   ECO                                        Opening   Termination NumMoves   \n",
       "0  A06             Zukertort Opening: Tennison Gambit        Normal       92  \\\n",
       "1  B06                                 Modern Defense        Normal       54   \n",
       "2  B01  Scandinavian Defense: Mieses-Kotroc Variation  Time forfeit      106   \n",
       "3  B20                               Sicilian Defense        Normal       67   \n",
       "4  B01  Scandinavian Defense: Mieses-Kotroc Variation        Normal       63   \n",
       "\n",
       "   NumTurns  WhiteCastled  BlackCastled  LastMove   \n",
       "0        46          True         False     Rxe4+  \\\n",
       "1        27         False          True       Nc6   \n",
       "2        53          True          True       Nd4   \n",
       "3        33          True          True      Rb8#   \n",
       "4        31          True          True       Rb5   \n",
       "\n",
       "                                            MovesSAN  \n",
       "0  Nf3 d5 e4 dxe4 Ng5 Nc6 Nxe4 Bf5 Nbc3 e6 Qf3 Nf...  \n",
       "1  e4 g6 d4 Bg7 Be3 d6 Bd3 Nf6 Qd2 O-O Bh6 Ng4 Bx...  \n",
       "2  e4 d5 exd5 Qxd5 Nf3 Qe6+ Be2 Nc6 O-O h5 d4 Qg6...  \n",
       "3  e4 c5 d3 Nc6 Nf3 e6 Be2 Nge7 c3 Ng6 Bg5 Be7 Be...  \n",
       "4  e4 d5 exd5 Qxd5 Nf3 Bg4 Be2 Nd7 O-O g6 d3 Bg7 ...  \n",
       "\n",
       "[5 rows x 21 columns]"
      ]
     },
     "execution_count": 38,
     "metadata": {},
     "output_type": "execute_result"
    }
   ],
   "source": [
    "df.head(5)"
   ]
  },
  {
   "cell_type": "code",
   "execution_count": 39,
   "id": "ff9fdb02",
   "metadata": {},
   "outputs": [
    {
     "name": "stdout",
     "output_type": "stream",
     "text": [
      "<class 'pandas.core.frame.DataFrame'>\n",
      "RangeIndex: 10999 entries, 0 to 10998\n",
      "Data columns (total 21 columns):\n",
      " #   Column        Non-Null Count  Dtype  \n",
      "---  ------        --------------  -----  \n",
      " 0   GameId        10999 non-null  object \n",
      " 1   Site          10999 non-null  object \n",
      " 2   Date          10999 non-null  object \n",
      " 3   UTCDate       10999 non-null  object \n",
      " 4   UTCTime       10999 non-null  object \n",
      " 5   White         10999 non-null  object \n",
      " 6   Black         10999 non-null  object \n",
      " 7   WhiteElo      10975 non-null  float64\n",
      " 8   BlackElo      10975 non-null  float64\n",
      " 9   Result        10999 non-null  object \n",
      " 10  Variant       10999 non-null  object \n",
      " 11  TimeControl   10999 non-null  object \n",
      " 12  ECO           10874 non-null  object \n",
      " 13  Opening       10874 non-null  object \n",
      " 14  Termination   10999 non-null  object \n",
      " 15  NumMoves      10999 non-null  int64  \n",
      " 16  NumTurns      10999 non-null  int64  \n",
      " 17  WhiteCastled  10999 non-null  bool   \n",
      " 18  BlackCastled  10999 non-null  bool   \n",
      " 19  LastMove      10998 non-null  object \n",
      " 20  MovesSAN      10998 non-null  object \n",
      "dtypes: bool(2), float64(2), int64(2), object(15)\n",
      "memory usage: 1.6+ MB\n"
     ]
    }
   ],
   "source": [
    "df.info()"
   ]
  },
  {
   "cell_type": "code",
   "execution_count": 40,
   "id": "4739d499",
   "metadata": {},
   "outputs": [
    {
     "data": {
      "text/html": [
       "<div>\n",
       "<style scoped>\n",
       "    .dataframe tbody tr th:only-of-type {\n",
       "        vertical-align: middle;\n",
       "    }\n",
       "\n",
       "    .dataframe tbody tr th {\n",
       "        vertical-align: top;\n",
       "    }\n",
       "\n",
       "    .dataframe thead th {\n",
       "        text-align: right;\n",
       "    }\n",
       "</style>\n",
       "<table border=\"1\" class=\"dataframe\">\n",
       "  <thead>\n",
       "    <tr style=\"text-align: right;\">\n",
       "      <th></th>\n",
       "      <th>WhiteElo</th>\n",
       "      <th>BlackElo</th>\n",
       "      <th>NumMoves</th>\n",
       "      <th>NumTurns</th>\n",
       "    </tr>\n",
       "  </thead>\n",
       "  <tbody>\n",
       "    <tr>\n",
       "      <th>count</th>\n",
       "      <td>10975.000000</td>\n",
       "      <td>10975.000000</td>\n",
       "      <td>10999.000000</td>\n",
       "      <td>10999.000000</td>\n",
       "    </tr>\n",
       "    <tr>\n",
       "      <th>mean</th>\n",
       "      <td>1645.478633</td>\n",
       "      <td>1678.190979</td>\n",
       "      <td>63.562960</td>\n",
       "      <td>31.547686</td>\n",
       "    </tr>\n",
       "    <tr>\n",
       "      <th>std</th>\n",
       "      <td>208.874090</td>\n",
       "      <td>195.639894</td>\n",
       "      <td>29.913122</td>\n",
       "      <td>14.972080</td>\n",
       "    </tr>\n",
       "    <tr>\n",
       "      <th>min</th>\n",
       "      <td>690.000000</td>\n",
       "      <td>666.000000</td>\n",
       "      <td>0.000000</td>\n",
       "      <td>0.000000</td>\n",
       "    </tr>\n",
       "    <tr>\n",
       "      <th>25%</th>\n",
       "      <td>1498.000000</td>\n",
       "      <td>1553.000000</td>\n",
       "      <td>43.000000</td>\n",
       "      <td>21.000000</td>\n",
       "    </tr>\n",
       "    <tr>\n",
       "      <th>50%</th>\n",
       "      <td>1690.000000</td>\n",
       "      <td>1715.000000</td>\n",
       "      <td>59.000000</td>\n",
       "      <td>29.000000</td>\n",
       "    </tr>\n",
       "    <tr>\n",
       "      <th>75%</th>\n",
       "      <td>1794.000000</td>\n",
       "      <td>1818.000000</td>\n",
       "      <td>80.000000</td>\n",
       "      <td>40.000000</td>\n",
       "    </tr>\n",
       "    <tr>\n",
       "      <th>max</th>\n",
       "      <td>2766.000000</td>\n",
       "      <td>2680.000000</td>\n",
       "      <td>282.000000</td>\n",
       "      <td>141.000000</td>\n",
       "    </tr>\n",
       "  </tbody>\n",
       "</table>\n",
       "</div>"
      ],
      "text/plain": [
       "           WhiteElo      BlackElo      NumMoves      NumTurns\n",
       "count  10975.000000  10975.000000  10999.000000  10999.000000\n",
       "mean    1645.478633   1678.190979     63.562960     31.547686\n",
       "std      208.874090    195.639894     29.913122     14.972080\n",
       "min      690.000000    666.000000      0.000000      0.000000\n",
       "25%     1498.000000   1553.000000     43.000000     21.000000\n",
       "50%     1690.000000   1715.000000     59.000000     29.000000\n",
       "75%     1794.000000   1818.000000     80.000000     40.000000\n",
       "max     2766.000000   2680.000000    282.000000    141.000000"
      ]
     },
     "execution_count": 40,
     "metadata": {},
     "output_type": "execute_result"
    }
   ],
   "source": [
    "df.describe()"
   ]
  },
  {
   "cell_type": "code",
   "execution_count": 41,
   "id": "1ddcf2d6",
   "metadata": {},
   "outputs": [
    {
     "data": {
      "text/plain": [
       "GameId            0\n",
       "Site              0\n",
       "Date              0\n",
       "UTCDate           0\n",
       "UTCTime           0\n",
       "White             0\n",
       "Black             0\n",
       "WhiteElo         24\n",
       "BlackElo         24\n",
       "Result            0\n",
       "Variant           0\n",
       "TimeControl       0\n",
       "ECO             125\n",
       "Opening         125\n",
       "Termination       0\n",
       "NumMoves          0\n",
       "NumTurns          0\n",
       "WhiteCastled      0\n",
       "BlackCastled      0\n",
       "LastMove          1\n",
       "MovesSAN          1\n",
       "dtype: int64"
      ]
     },
     "execution_count": 41,
     "metadata": {},
     "output_type": "execute_result"
    }
   ],
   "source": [
    "df.isnull().sum()"
   ]
  },
  {
   "cell_type": "code",
   "execution_count": 42,
   "id": "67122bc6",
   "metadata": {},
   "outputs": [
    {
     "data": {
      "text/plain": [
       "GameId          10999\n",
       "Site            10999\n",
       "Date              614\n",
       "UTCDate           614\n",
       "UTCTime          9997\n",
       "White            4377\n",
       "Black            3492\n",
       "WhiteElo         1023\n",
       "BlackElo          993\n",
       "Result              3\n",
       "Variant             9\n",
       "TimeControl       164\n",
       "ECO               188\n",
       "Opening           578\n",
       "Termination         3\n",
       "NumMoves          199\n",
       "NumTurns          105\n",
       "WhiteCastled        2\n",
       "BlackCastled        2\n",
       "LastMove         1868\n",
       "MovesSAN        10981\n",
       "dtype: int64"
      ]
     },
     "execution_count": 42,
     "metadata": {},
     "output_type": "execute_result"
    }
   ],
   "source": [
    "df.nunique()"
   ]
  },
  {
   "cell_type": "code",
   "execution_count": 43,
   "id": "e6eab81f",
   "metadata": {},
   "outputs": [
    {
     "data": {
      "text/plain": [
       "Variant\n",
       "Standard            10809\n",
       "Antichess              92\n",
       "Crazyhouse             57\n",
       "Chess960               22\n",
       "Atomic                  7\n",
       "Three-check             5\n",
       "King of the Hill        4\n",
       "Racing Kings            2\n",
       "Horde                   1\n",
       "Name: count, dtype: int64"
      ]
     },
     "execution_count": 43,
     "metadata": {},
     "output_type": "execute_result"
    }
   ],
   "source": [
    "df['Variant'].value_counts()"
   ]
  },
  {
   "cell_type": "code",
   "execution_count": 44,
   "id": "27ca5016",
   "metadata": {},
   "outputs": [
    {
     "data": {
      "text/plain": [
       "<Axes: >"
      ]
     },
     "execution_count": 44,
     "metadata": {},
     "output_type": "execute_result"
    },
    {
     "data": {
      "image/png": "[encoded data removed]",
      "text/plain": [
       "<Figure size 640x480 with 1 Axes>"
      ]
     },
     "metadata": {},
     "output_type": "display_data"
    }
   ],
   "source": [
    "df[df['Variant'] == 'Standard'][['WhiteElo','BlackElo']].plot.box()"
   ]
  },
  {
   "cell_type": "markdown",
   "id": "e120a86d",
   "metadata": {},
   "source": [
    "# Feature Engineering"
   ]
  },
  {
   "cell_type": "markdown",
   "id": "aaa2ef5d",
   "metadata": {},
   "source": [
    "### Player Perspective Features"
   ]
  },
  {
   "cell_type": "code",
   "execution_count": 45,
   "id": "bec73b8e",
   "metadata": {},
   "outputs": [],
   "source": [
    "df['PlayerColor'] = df['White'].apply(lambda x :\"White\" if x == \"nishiv_chess\" else \"Black\")"
   ]
  },
  {
   "cell_type": "code",
   "execution_count": 46,
   "id": "2c3399db",
   "metadata": {},
   "outputs": [],
   "source": [
    "df['PlayerElo'] = df.apply(lambda row : row['WhiteElo'] if row['White'] == 'nishiv_chess' else row['BlackElo'],axis=1)\n",
    "df['OpponentElo'] = df.apply(lambda row : row['WhiteElo'] if row['White'] != 'nishiv_chess' else row['BlackElo'],axis=1)"
   ]
  },
  {
   "cell_type": "code",
   "execution_count": 47,
   "id": "941e4cdc",
   "metadata": {},
   "outputs": [],
   "source": [
    "df['RatingDiff'] = df['PlayerElo'] - df['OpponentElo']"
   ]
  },
  {
   "cell_type": "code",
   "execution_count": 48,
   "id": "18a9874d",
   "metadata": {},
   "outputs": [],
   "source": [
    "df['MatchResult'] = df.apply(lambda row : \"Draw\" if row['Result'] == '1/2-1/2' \n",
    "                             else \"Win\" if (row['Result'] == '1-0' and row['PlayerColor'] == 'White') or (row['Result'] == '0-1' and row['PlayerColor'] == 'Black')\n",
    "                             else \"Loss\",axis = 1)"
   ]
  },
  {
   "cell_type": "markdown",
   "id": "77211024",
   "metadata": {},
   "source": [
    "### Time Related Features"
   ]
  },
  {
   "cell_type": "code",
   "execution_count": 49,
   "id": "34c11c34",
   "metadata": {},
   "outputs": [],
   "source": [
    "# Convert to datetime with UTC timezone\n",
    "df['UTCDateTime'] = pd.to_datetime(\n",
    "    df['UTCDate'] + ' ' + df['UTCTime'],\n",
    "    format=\"%Y.%m.%d %H:%M:%S\",\n",
    "    errors='coerce'\n",
    ").dt.tz_localize('UTC')\n",
    "\n",
    "df['LocalDateTime'] = df['UTCDateTime'].dt.tz_convert('Asia/Kolkata')"
   ]
  },
  {
   "cell_type": "code",
   "execution_count": 50,
   "id": "1c156360",
   "metadata": {},
   "outputs": [
    {
     "data": {
      "text/plain": [
       "datetime64[ns, Asia/Kolkata]"
      ]
     },
     "execution_count": 50,
     "metadata": {},
     "output_type": "execute_result"
    }
   ],
   "source": [
    "df['LocalDateTime'].dtype"
   ]
  },
  {
   "cell_type": "code",
   "execution_count": 51,
   "id": "8dab2cd3",
   "metadata": {},
   "outputs": [],
   "source": [
    "df['GameDay'] = df['LocalDateTime'].dt.day\n",
    "df['DayOfWeek'] = df['LocalDateTime'].dt.day_name()\n",
    "df['GameHour'] =df['LocalDateTime'].dt.hour"
   ]
  },
  {
   "cell_type": "code",
   "execution_count": 52,
   "id": "30564165",
   "metadata": {},
   "outputs": [],
   "source": [
    "df['IsWeekend'] = df['DayOfWeek'].apply(lambda x : x == 'Saturday' or x == 'Sunday')"
   ]
  },
  {
   "cell_type": "markdown",
   "id": "aff4aae7",
   "metadata": {},
   "source": [
    "### Game Type & Progression"
   ]
  },
  {
   "cell_type": "code",
   "execution_count": 53,
   "id": "30d4432e",
   "metadata": {},
   "outputs": [],
   "source": [
    "def game_type(timecontrol):\n",
    "\n",
    "    if timecontrol == '-': # Games played with Platform chess engines\n",
    "        return \"Correspondence\"\n",
    "    \n",
    "    base,inc = map(int,timecontrol.split('+'))\n",
    "    estimated_time = base + inc*40  # Average moves = 40 as considered by Lichess and other platforms\n",
    "    if estimated_time < 180:\n",
    "        return \"Bullet\"\n",
    "    elif estimated_time >= 180 and estimated_time < 600:\n",
    "        return \"Blitz\"\n",
    "    elif estimated_time >= 600 and estimated_time < 1800:\n",
    "        return \"Rapid\"\n",
    "    else:\n",
    "        return \"Classical\""
   ]
  },
  {
   "cell_type": "code",
   "execution_count": 54,
   "id": "06099351",
   "metadata": {},
   "outputs": [],
   "source": [
    "df['GameType'] = df['TimeControl'].apply(game_type)"
   ]
  },
  {
   "cell_type": "code",
   "execution_count": 55,
   "id": "9fe926d8",
   "metadata": {},
   "outputs": [],
   "source": [
    "df[['MainOpening','OpeningVariation']] = df['Opening'].str.split(': ', n=1, expand=True)"
   ]
  },
  {
   "cell_type": "markdown",
   "id": "216d6885",
   "metadata": {},
   "source": [
    "### Game Quality"
   ]
  },
  {
   "cell_type": "code",
   "execution_count": 56,
   "id": "17e9d2d6",
   "metadata": {},
   "outputs": [],
   "source": [
    "def termination_type(row):\n",
    "    if row['Termination'] == \"Normal\":\n",
    "        if row['LastMove'] is None or str(row['LastMove'])[-1] != '#':\n",
    "            return \"Resigned\"\n",
    "        else:\n",
    "            return \"Checkmate\"\n",
    "    return row['Termination']"
   ]
  },
  {
   "cell_type": "code",
   "execution_count": 57,
   "id": "52d249cd",
   "metadata": {},
   "outputs": [],
   "source": [
    "df['TerminationType'] = df.apply(termination_type,axis = 1)"
   ]
  },
  {
   "cell_type": "code",
   "execution_count": 58,
   "id": "6a52cddc",
   "metadata": {},
   "outputs": [],
   "source": [
    "df['GameLength'] = df['NumTurns'].apply(lambda x : \"Short\" if x < 10 else \"Medium\" if x >= 10 and x < 60 else \"Long\")"
   ]
  },
  {
   "cell_type": "markdown",
   "id": "56af6b44",
   "metadata": {},
   "source": [
    "# Exploratory Data Analysis"
   ]
  },
  {
   "cell_type": "markdown",
   "id": "f0483808",
   "metadata": {},
   "source": [
    "### Overview Statistics"
   ]
  },
  {
   "cell_type": "code",
   "execution_count": 59,
   "id": "ac5820a6",
   "metadata": {},
   "outputs": [
    {
     "data": {
      "text/html": [
       "<div>\n",
       "<style scoped>\n",
       "    .dataframe tbody tr th:only-of-type {\n",
       "        vertical-align: middle;\n",
       "    }\n",
       "\n",
       "    .dataframe tbody tr th {\n",
       "        vertical-align: top;\n",
       "    }\n",
       "\n",
       "    .dataframe thead th {\n",
       "        text-align: right;\n",
       "    }\n",
       "</style>\n",
       "<table border=\"1\" class=\"dataframe\">\n",
       "  <thead>\n",
       "    <tr style=\"text-align: right;\">\n",
       "      <th></th>\n",
       "      <th>GameId</th>\n",
       "      <th>Site</th>\n",
       "      <th>Date</th>\n",
       "      <th>UTCDate</th>\n",
       "      <th>UTCTime</th>\n",
       "      <th>White</th>\n",
       "      <th>Black</th>\n",
       "      <th>WhiteElo</th>\n",
       "      <th>BlackElo</th>\n",
       "      <th>Result</th>\n",
       "      <th>...</th>\n",
       "      <th>LocalDateTime</th>\n",
       "      <th>GameDay</th>\n",
       "      <th>DayOfWeek</th>\n",
       "      <th>GameHour</th>\n",
       "      <th>IsWeekend</th>\n",
       "      <th>GameType</th>\n",
       "      <th>MainOpening</th>\n",
       "      <th>OpeningVariation</th>\n",
       "      <th>TerminationType</th>\n",
       "      <th>GameLength</th>\n",
       "    </tr>\n",
       "  </thead>\n",
       "  <tbody>\n",
       "    <tr>\n",
       "      <th>0</th>\n",
       "      <td>rvuBZ8lZ</td>\n",
       "      <td>https://lichess.org/rvuBZ8lZ</td>\n",
       "      <td>2024.06.29</td>\n",
       "      <td>2024.06.29</td>\n",
       "      <td>17:32:22</td>\n",
       "      <td>UdiQ</td>\n",
       "      <td>nishiv_chess</td>\n",
       "      <td>1899.0</td>\n",
       "      <td>1928.0</td>\n",
       "      <td>0-1</td>\n",
       "      <td>...</td>\n",
       "      <td>2024-06-29 23:02:22+05:30</td>\n",
       "      <td>29</td>\n",
       "      <td>Saturday</td>\n",
       "      <td>23</td>\n",
       "      <td>True</td>\n",
       "      <td>Bullet</td>\n",
       "      <td>Zukertort Opening</td>\n",
       "      <td>Tennison Gambit</td>\n",
       "      <td>Resigned</td>\n",
       "      <td>Medium</td>\n",
       "    </tr>\n",
       "    <tr>\n",
       "      <th>1</th>\n",
       "      <td>UHfYzLle</td>\n",
       "      <td>https://lichess.org/UHfYzLle</td>\n",
       "      <td>2024.06.29</td>\n",
       "      <td>2024.06.29</td>\n",
       "      <td>17:29:58</td>\n",
       "      <td>nishiv_chess</td>\n",
       "      <td>Rocknbol</td>\n",
       "      <td>1935.0</td>\n",
       "      <td>1848.0</td>\n",
       "      <td>0-1</td>\n",
       "      <td>...</td>\n",
       "      <td>2024-06-29 22:59:58+05:30</td>\n",
       "      <td>29</td>\n",
       "      <td>Saturday</td>\n",
       "      <td>22</td>\n",
       "      <td>True</td>\n",
       "      <td>Bullet</td>\n",
       "      <td>Modern Defense</td>\n",
       "      <td>None</td>\n",
       "      <td>Resigned</td>\n",
       "      <td>Medium</td>\n",
       "    </tr>\n",
       "    <tr>\n",
       "      <th>2</th>\n",
       "      <td>UOXnYWKB</td>\n",
       "      <td>https://lichess.org/UOXnYWKB</td>\n",
       "      <td>2024.06.29</td>\n",
       "      <td>2024.06.29</td>\n",
       "      <td>17:23:28</td>\n",
       "      <td>nishiv_chess</td>\n",
       "      <td>tmorsy123</td>\n",
       "      <td>1941.0</td>\n",
       "      <td>1907.0</td>\n",
       "      <td>0-1</td>\n",
       "      <td>...</td>\n",
       "      <td>2024-06-29 22:53:28+05:30</td>\n",
       "      <td>29</td>\n",
       "      <td>Saturday</td>\n",
       "      <td>22</td>\n",
       "      <td>True</td>\n",
       "      <td>Bullet</td>\n",
       "      <td>Scandinavian Defense</td>\n",
       "      <td>Mieses-Kotroc Variation</td>\n",
       "      <td>Time forfeit</td>\n",
       "      <td>Medium</td>\n",
       "    </tr>\n",
       "    <tr>\n",
       "      <th>3</th>\n",
       "      <td>yQkk4s62</td>\n",
       "      <td>https://lichess.org/yQkk4s62</td>\n",
       "      <td>2024.06.29</td>\n",
       "      <td>2024.06.29</td>\n",
       "      <td>17:19:10</td>\n",
       "      <td>boensaka</td>\n",
       "      <td>nishiv_chess</td>\n",
       "      <td>1894.0</td>\n",
       "      <td>1947.0</td>\n",
       "      <td>1-0</td>\n",
       "      <td>...</td>\n",
       "      <td>2024-06-29 22:49:10+05:30</td>\n",
       "      <td>29</td>\n",
       "      <td>Saturday</td>\n",
       "      <td>22</td>\n",
       "      <td>True</td>\n",
       "      <td>Bullet</td>\n",
       "      <td>Sicilian Defense</td>\n",
       "      <td>None</td>\n",
       "      <td>Checkmate</td>\n",
       "      <td>Medium</td>\n",
       "    </tr>\n",
       "    <tr>\n",
       "      <th>4</th>\n",
       "      <td>FlXSw9bJ</td>\n",
       "      <td>https://lichess.org/FlXSw9bJ</td>\n",
       "      <td>2024.06.29</td>\n",
       "      <td>2024.06.29</td>\n",
       "      <td>17:15:41</td>\n",
       "      <td>nishiv_chess</td>\n",
       "      <td>c4Polo</td>\n",
       "      <td>1954.0</td>\n",
       "      <td>1812.0</td>\n",
       "      <td>0-1</td>\n",
       "      <td>...</td>\n",
       "      <td>2024-06-29 22:45:41+05:30</td>\n",
       "      <td>29</td>\n",
       "      <td>Saturday</td>\n",
       "      <td>22</td>\n",
       "      <td>True</td>\n",
       "      <td>Bullet</td>\n",
       "      <td>Scandinavian Defense</td>\n",
       "      <td>Mieses-Kotroc Variation</td>\n",
       "      <td>Resigned</td>\n",
       "      <td>Medium</td>\n",
       "    </tr>\n",
       "  </tbody>\n",
       "</table>\n",
       "<p>5 rows × 37 columns</p>\n",
       "</div>"
      ],
      "text/plain": [
       "     GameId                          Site        Date     UTCDate   UTCTime   \n",
       "0  rvuBZ8lZ  https://lichess.org/rvuBZ8lZ  2024.06.29  2024.06.29  17:32:22  \\\n",
       "1  UHfYzLle  https://lichess.org/UHfYzLle  2024.06.29  2024.06.29  17:29:58   \n",
       "2  UOXnYWKB  https://lichess.org/UOXnYWKB  2024.06.29  2024.06.29  17:23:28   \n",
       "3  yQkk4s62  https://lichess.org/yQkk4s62  2024.06.29  2024.06.29  17:19:10   \n",
       "4  FlXSw9bJ  https://lichess.org/FlXSw9bJ  2024.06.29  2024.06.29  17:15:41   \n",
       "\n",
       "          White         Black  WhiteElo  BlackElo Result  ...   \n",
       "0          UdiQ  nishiv_chess    1899.0    1928.0    0-1  ...  \\\n",
       "1  nishiv_chess      Rocknbol    1935.0    1848.0    0-1  ...   \n",
       "2  nishiv_chess     tmorsy123    1941.0    1907.0    0-1  ...   \n",
       "3      boensaka  nishiv_chess    1894.0    1947.0    1-0  ...   \n",
       "4  nishiv_chess        c4Polo    1954.0    1812.0    0-1  ...   \n",
       "\n",
       "              LocalDateTime GameDay DayOfWeek GameHour IsWeekend  GameType   \n",
       "0 2024-06-29 23:02:22+05:30      29  Saturday       23      True    Bullet  \\\n",
       "1 2024-06-29 22:59:58+05:30      29  Saturday       22      True    Bullet   \n",
       "2 2024-06-29 22:53:28+05:30      29  Saturday       22      True    Bullet   \n",
       "3 2024-06-29 22:49:10+05:30      29  Saturday       22      True    Bullet   \n",
       "4 2024-06-29 22:45:41+05:30      29  Saturday       22      True    Bullet   \n",
       "\n",
       "            MainOpening         OpeningVariation  TerminationType GameLength  \n",
       "0     Zukertort Opening          Tennison Gambit         Resigned     Medium  \n",
       "1        Modern Defense                     None         Resigned     Medium  \n",
       "2  Scandinavian Defense  Mieses-Kotroc Variation     Time forfeit     Medium  \n",
       "3      Sicilian Defense                     None        Checkmate     Medium  \n",
       "4  Scandinavian Defense  Mieses-Kotroc Variation         Resigned     Medium  \n",
       "\n",
       "[5 rows x 37 columns]"
      ]
     },
     "execution_count": 59,
     "metadata": {},
     "output_type": "execute_result"
    }
   ],
   "source": [
    "df.head()"
   ]
  },
  {
   "cell_type": "code",
   "execution_count": 60,
   "id": "7073bdc9",
   "metadata": {},
   "outputs": [
    {
     "data": {
      "text/plain": [
       "Index(['GameId', 'Site', 'Date', 'UTCDate', 'UTCTime', 'White', 'Black',\n",
       "       'WhiteElo', 'BlackElo', 'Result', 'Variant', 'TimeControl', 'ECO',\n",
       "       'Opening', 'Termination', 'NumMoves', 'NumTurns', 'WhiteCastled',\n",
       "       'BlackCastled', 'LastMove', 'MovesSAN', 'PlayerColor', 'PlayerElo',\n",
       "       'OpponentElo', 'RatingDiff', 'MatchResult', 'UTCDateTime',\n",
       "       'LocalDateTime', 'GameDay', 'DayOfWeek', 'GameHour', 'IsWeekend',\n",
       "       'GameType', 'MainOpening', 'OpeningVariation', 'TerminationType',\n",
       "       'GameLength'],\n",
       "      dtype='object')"
      ]
     },
     "execution_count": 60,
     "metadata": {},
     "output_type": "execute_result"
    }
   ],
   "source": [
    "df.columns"
   ]
  },
  {
   "cell_type": "code",
   "execution_count": 61,
   "id": "4bceee8e",
   "metadata": {},
   "outputs": [],
   "source": [
    "# Total games\n",
    "total_games = df.shape[0]\n",
    "\n",
    "# Results \n",
    "wins = (df['MatchResult'] == 'Win').sum()\n",
    "losses = (df['MatchResult'] == 'Loss').sum()\n",
    "draws = (df['MatchResult'] == 'Draw').sum()\n",
    "\n",
    "# Color Distribution\n",
    "games_white = (df['PlayerColor'] == 'White').sum()\n",
    "games_black = total_games - games_white\n",
    "\n",
    "# Game Types\n",
    "game_types = df['GameType'].value_counts()\n",
    "game_variants = df['Variant'].value_counts()\n",
    "termination_types = df['TerminationType'].value_counts()"
   ]
  },
  {
   "cell_type": "code",
   "execution_count": 62,
   "id": "54ee67ff",
   "metadata": {},
   "outputs": [
    {
     "name": "stdout",
     "output_type": "stream",
     "text": [
      "Total games played : 10999\n",
      "Wins : 7820\n",
      "Losses : 2883\n",
      "Draws : 296 \n",
      "\n",
      "Games as white : 4757\n",
      "Games as black : 6242 \n",
      "\n",
      "Game by types:\n",
      "GameType\n",
      "Blitz             5951\n",
      "Bullet            4306\n",
      "Rapid              701\n",
      "Correspondence      41 \n",
      "\n",
      "Games by Variant:\n",
      "Variant\n",
      "Standard            10809\n",
      "Antichess              92\n",
      "Crazyhouse             57\n",
      "Chess960               22\n",
      "Atomic                  7\n",
      "Three-check             5\n",
      "King of the Hill        4\n",
      "Racing Kings            2\n",
      "Horde                   1 \n",
      "\n",
      "Games Termination Types:\n",
      "TerminationType\n",
      "Resigned        6371\n",
      "Time forfeit    2436\n",
      "Checkmate       2190\n",
      "Abandoned          2 \n",
      "\n"
     ]
    }
   ],
   "source": [
    "# Print Summary\n",
    "\n",
    "print(f'Total games played : {total_games}')\n",
    "print(f'Wins : {wins}')\n",
    "print(f'Losses : {losses}')\n",
    "print(f'Draws : {draws} \\n')\n",
    "\n",
    "print(f'Games as white : {games_white}')\n",
    "print(f'Games as black : {games_black} \\n')\n",
    "\n",
    "print(f'Game by types:')\n",
    "print(game_types.to_string(),'\\n')\n",
    "\n",
    "print(f'Games by Variant:')\n",
    "print(game_variants.to_string(),'\\n')\n",
    "\n",
    "print(f'Games Termination Types:')\n",
    "print(termination_types.to_string(),'\\n')"
   ]
  },
  {
   "cell_type": "code",
   "execution_count": null,
   "id": "63318f40",
   "metadata": {},
   "outputs": [
    {
     "data": {
      "image/png": "[encoded data removed]",
      "text/plain": [
       "<Figure size 2100x1200 with 6 Axes>"
      ]
     },
     "metadata": {},
     "output_type": "display_data"
    }
   ],
   "source": [
    "fig, axes = plt.subplots(2, 3, figsize=(21, 12))\n",
    "fig.suptitle(\"Overview Statistics\", fontsize=20, y=1.02)\n",
    "\n",
    "# 1. KPI Card – Total Games\n",
    "axes[0][0].text(0.5, 0.5, f'Total Games\\n{total_games:,}',\n",
    "                horizontalalignment='center',\n",
    "                verticalalignment='center',\n",
    "                fontsize=24, fontweight='bold',\n",
    "                color='#2E86AB')\n",
    "axes[0][0].axis('off')\n",
    "\n",
    "# 2. Games Outcome\n",
    "axes[0][1].pie([wins, losses, draws],\n",
    "               labels=['Wins', 'Losses', 'Draws'],\n",
    "               autopct='%1.1f%%',\n",
    "               colors=['#4CAF50', '#F44336', '#FFC107'],\n",
    "               startangle=90,\n",
    "               textprops={'fontsize': 12})\n",
    "axes[0][1].set_title(\"Games Outcome\", pad=20)\n",
    "axes[0][1].axis('equal')\n",
    "\n",
    "# 3. Games by Color\n",
    "sns.barplot(x=['White', 'Black'],\n",
    "            y=[games_white, games_black],\n",
    "            palette='coolwarm',\n",
    "            ax=axes[0][2])\n",
    "axes[0][2].set_title('Games by Color')\n",
    "axes[0][2].set_xlabel('Played As')\n",
    "\n",
    "# 4. Game Types\n",
    "sns.barplot(x=game_types.index,\n",
    "            y=game_types.values,\n",
    "            palette='Blues_r',\n",
    "            ax=axes[1][0])\n",
    "axes[1][0].set_title('Game Types')\n",
    "axes[1][0].tick_params(axis='x')\n",
    "\n",
    "# 5. Game Variants (Log Scale)\n",
    "sns.barplot(x=game_variants.values,\n",
    "            y=game_variants.index,\n",
    "            palette='Purples_d',\n",
    "            ax=axes[1][1])\n",
    "axes[1][1].set_xscale('log')\n",
    "axes[1][1].set_title('Game Variants')\n",
    "axes[1][1].set_xlabel('Number of Games')\n",
    "axes[1][1].set_ylabel('Variant')\n",
    "\n",
    "# 6. Termination Types\n",
    "sns.barplot(x=termination_types.values,\n",
    "            y=termination_types.index,\n",
    "            palette='Oranges_r',\n",
    "            ax=axes[1][2])\n",
    "axes[1][2].set_title('Termination Types')\n",
    "axes[1][2].set_xlabel('Number of Games')\n",
    "axes[1][2].set_ylabel('Termination')\n",
    "\n",
    "plt.tight_layout(rect=[0, 0, 1, 0.95])\n",
    "plt.subplots_adjust(hspace=0.5, wspace=0.3)\n",
    "plt.show()\n"
   ]
  }
 ],
 "metadata": {
  "kernelspec": {
   "display_name": "Python 3",
   "language": "python",
   "name": "python3"
  },
  "language_info": {
   "codemirror_mode": {
    "name": "ipython",
    "version": 3
   },
   "file_extension": ".py",
   "mimetype": "text/x-python",
   "name": "python",
   "nbconvert_exporter": "python",
   "pygments_lexer": "ipython3",
   "version": "3.11.3"
  }
 },
 "nbformat": 4,
 "nbformat_minor": 5
}
